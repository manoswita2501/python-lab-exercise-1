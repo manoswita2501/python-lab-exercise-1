{
 "cells": [
  {
   "cell_type": "code",
   "execution_count": 10,
   "metadata": {},
   "outputs": [
    {
     "name": "stdout",
     "output_type": "stream",
     "text": [
      "The word 'domain' appears 2 times in the paragraph.\n"
     ]
    }
   ],
   "source": [
    "# Input paragraph\n",
    "para = \"This is Manoswita Bose, hailing from the sweetest part of India - West Bengal. I'm currently pursuing my MCA from Christ deemed-to-be University, Bangalore - Main Campus. I belong to the batch 2023-2025. My registration number is 2347238. My chosen area is - MEDICAL FIELD. I feel, working in this domain will offer real-world impact and potential to improve healthcare. It combines programming skills with medical knowledge, encourages innovation, and provides educational and collaboration opportunities. This choice of domain can even lead to diverse career prospects by contributing to medical advancements. Knowing that my project could potentially contribute to medical advancements will hopefully be personally fulfilling and rewarding.\"\n",
    "\n",
    "# Specific word to count\n",
    "word = \"domain\"\n",
    "\n",
    "# Split paragraph into words\n",
    "words = para.lower().split()\n",
    "\n",
    "# Count the frequency of the specific word\n",
    "freq = words.count(word.lower())\n",
    "\n",
    "# Print the frequency\n",
    "print(f\"The word '{word}' appears {freq} times in the paragraph.\")"
   ]
  },
  {
   "cell_type": "code",
   "execution_count": 6,
   "metadata": {},
   "outputs": [
    {
     "name": "stdout",
     "output_type": "stream",
     "text": [
      "<class 'int'>\n",
      "<class 'str'>\n",
      "<class 'str'>\n",
      "<class 'float'>\n"
     ]
    }
   ],
   "source": [
    "reg_no = 2347238\n",
    "name = \"Manoswita Bose\"\n",
    "course = \"1MCAB\"\n",
    "pi = 3.142\n",
    "\n",
    "print(type(reg_no), end = \"\\n\")\n",
    "print(type(name), end = \"\\n\")\n",
    "print(type(course), end = \"\\n\")\n",
    "print(type(pi))"
   ]
  },
  {
   "cell_type": "code",
   "execution_count": 11,
   "metadata": {},
   "outputs": [
    {
     "name": "stdout",
     "output_type": "stream",
     "text": [
      "Number of alphabets: 600\n",
      "Number of numeric digits: 15\n",
      "Number of special symbols: 133\n"
     ]
    }
   ],
   "source": [
    "# Taking a paragraph as input\n",
    "para = \"\"\"\n",
    "This is Manoswita Bose, hailing from the sweetest part of India - West Bengal.\n",
    "I'm currently pursuing my MCA from Christ deemed-to-be University, Bangalore - Min Campus. I belong to the batch 2023-2025. My registration number is 2347238.\n",
    "My chosen domain is - 'Medical Field'. I feel, working in this domain will offer real-world impact and potential to improve healthcare. It combines programming skills with medical knowledge, encourages innovation, and provides educational and collaboration opportunities.\n",
    "This choice of domain can even lead to diverse career prospects by contributing to medical advancements. Knowing that my project could potentially contribute to medical advancements will hopefully be personally fulfilling and rewarding.\n",
    "\"\"\"\n",
    "\n",
    "# Initializing counters\n",
    "alpha = 0 #alphabet count\n",
    "num = 0 #number count\n",
    "spec = 0 #special character count\n",
    "\n",
    "# Counting the total number of alphabets, numbers, and special characters\n",
    "for char in para:\n",
    "    if char.isalpha():\n",
    "        alpha += 1\n",
    "    elif char.isdigit():\n",
    "        num += 1\n",
    "    else:\n",
    "        spec += 1\n",
    "\n",
    "# Display results\n",
    "print(\"Number of alphabets:\", alpha)\n",
    "print(\"Number of numeric digits:\", num)\n",
    "print(\"Number of special symbols:\", spec)"
   ]
  },
  {
   "cell_type": "code",
   "execution_count": 3,
   "metadata": {},
   "outputs": [
    {
     "name": "stdout",
     "output_type": "stream",
     "text": [
      "Final Set: ['therapy', 'surgery', 'medication', 'disease', 'diagnosis']\n"
     ]
    }
   ],
   "source": [
    "# Creating a Set with elements of various data types in the medical field\n",
    "medical_set = {45, 3.14, 'hospital', True, 'patient', 7.5, False}\n",
    "\n",
    "# Performing pop(), clear(), discard(), and del operations\n",
    "\n",
    "# pop() - Removes and returns an arbitrary element from the set\n",
    "popped_element = medical_set.pop()\n",
    "\"\"\"\n",
    "Insight: The pop() function removes an arbitrary element from the set. It doesn't specify which element will be removed, thus, reflecting the unordered nature of sets.\n",
    "Popped Element: {}\n",
    "Remaining Set: {}\n",
    "\"\"\"\n",
    "\n",
    "# clear() - Removes all elements from the set\n",
    "medical_set.clear()\n",
    "\"\"\"\n",
    "Insight: The clear() function removes all elements from the set, resulting in an empty set.\n",
    "Cleared Set: {}\n",
    "\"\"\"\n",
    "\n",
    "# Re-creating the Set for the next part of the assignment\n",
    "medical_set = {45, 3.14, 'hospital', True, 'patient', 7.5, False}\n",
    "\n",
    "# discard() - Removes a specified element from the set if present\n",
    "medical_set.discard('patient')\n",
    "\"\"\"\n",
    "Insight: The discard() function removes the specified element from the set if it exists. If the element is not present, the set will remain unchanged.\n",
    "Removed Element: 'patient'\n",
    "Remaining Set: {False, True, 'hospital', 45, 3.14, 7.5}\n",
    "\"\"\"\n",
    "\n",
    "# del - Deletes the entire set\n",
    "del medical_set\n",
    "\"\"\"\n",
    "Insight: Using 'del' will delete the entire set, and therefore free the memory associated with it.\n",
    "So, when we try to print the set, it will lead to an Error.\n",
    "\"\"\"\n",
    "\n",
    "# Updating the Set with string attributes and arranging in descending order\n",
    "medical_set = {'diagnosis', 'surgery', 'medication', 'therapy', 'disease'}\n",
    "medical_set = sorted(medical_set)\n",
    "\"\"\"\n",
    "Insight: The set has been updated with five string attributes from the medical field. Sorting it in descending order arranges the elements in reverse alphabetical order.\n",
    "Updated Set: {'therapy', 'surgery', 'medication', 'disease', 'diagnosis'}\n",
    "\"\"\"\n",
    "\n",
    "# Printing the final set\n",
    "print(\"Final Set:\", medical_set)"
   ]
  },
  {
   "cell_type": "code",
   "execution_count": 15,
   "metadata": {},
   "outputs": [
    {
     "name": "stdout",
     "output_type": "stream",
     "text": [
      "Final Set: ['diagnosis', 'disease', 'medication', 'surgery', 'therapy']\n"
     ]
    }
   ],
   "source": [
    "medical_set = {'diagnosis', 'surgery', 'medication', 'therapy', 'disease'}\n",
    "medical_set = sorted(medical_set)\n",
    "print(\"Final Set:\", medical_set)"
   ]
  },
  {
   "cell_type": "code",
   "execution_count": 12,
   "metadata": {},
   "outputs": [],
   "source": [
    "# Creating a Set with elements of various data types in the medical field\n",
    "medical_set = {45, 3.14, 'hospital', True, 'patient', 7.5, False}\n",
    "\n",
    "# Performing pop(), clear(), discard(), and del operations\n",
    "\n",
    "# pop() - Removes and returns an arbitrary element from the set\n",
    "popped_element = medical_set.pop()"
   ]
  },
  {
   "cell_type": "code",
   "execution_count": 4,
   "metadata": {},
   "outputs": [
    {
     "name": "stdout",
     "output_type": "stream",
     "text": [
      "Medical Tuple: ('stethoscope', 'syringe', 'thermometer', 'report', 'medicine')\n",
      "Hospital Equipment Tuple: ('ambulance', 'MRI', 'ventilator')\n",
      "Unpacked Equipment: ambulance MRI ventilator\n"
     ]
    }
   ],
   "source": [
    "# Creating a Tuple with attributes from the medical field\n",
    "medical_tuple = ('stethoscope', 'syringe', 'thermometer', 'report', 'medicine')\n",
    "\n",
    "# Packing and Unpacking operations\n",
    "# Packing: Combining multiple values into a tuple\n",
    "hospital_equipment = 'ambulance', 'MRI', 'ventilator'\n",
    "\n",
    "# Unpacking: Assigning values from a tuple to a single variable\n",
    "equipment1, equipment2, equipment3 = hospital_equipment\n",
    "\n",
    "# Printing original tuple and packed/unpacked values\n",
    "print(\"Medical Tuple:\", medical_tuple)\n",
    "print(\"Hospital Equipment Tuple:\", hospital_equipment)\n",
    "print(\"Unpacked Equipment:\", equipment1, equipment2, equipment3)"
   ]
  },
  {
   "cell_type": "code",
   "execution_count": 13,
   "metadata": {},
   "outputs": [
    {
     "name": "stdout",
     "output_type": "stream",
     "text": [
      "Count of 'd': 2\n"
     ]
    }
   ],
   "source": [
    "# Entering the domain name as characters\n",
    "domain_name = ('M', 'e', 'd', 'i', 'c', 'a', 'l', 'f', 'i', 'e', 'l', 'd')\n",
    "\n",
    "# Counting the occurrence of a character\n",
    "ch = input(\"Enter a single character whose occurence you want to check : \")\n",
    "char_count = domain_name.count(ch)\n",
    "\n",
    "# Printing the count of the specified character\n",
    "print(f\"Count of '{ch}': {char_count}\")"
   ]
  },
  {
   "cell_type": "code",
   "execution_count": 8,
   "metadata": {},
   "outputs": [
    {
     "name": "stdout",
     "output_type": "stream",
     "text": [
      "Domain Name: Medical field\n",
      "\n",
      "Slicing Possibilities:\n",
      "1. domain_name[:]: Medical field\n",
      "2. domain_name[7:]:  field\n",
      "3. domain_name[:7]: Medical\n",
      "4. domain_name[2:9]: dical f\n",
      "5. domain_name[::2]: Mdclfed\n",
      "6. domain_name[1::3]: ec e\n",
      "\n",
      "Negative Indexing Possibilities:\n",
      "1. domain_name[-1]: d\n",
      "2. domain_name[-6:-2]:  fie\n",
      "3. domain_name[-11:]: dical field\n",
      "4. domain_name[:-10]: Med\n",
      "5. domain_name[::-1]: dleif lacideM\n"
     ]
    }
   ],
   "source": [
    "# Enter the domain name\n",
    "domain_name = 'Medical field'\n",
    "\n",
    "# Print the entire domain name\n",
    "print(\"Domain Name:\", domain_name)\n",
    "\n",
    "# Slicing possibilities\n",
    "print(\"\\nSlicing Possibilities:\")\n",
    "print(\"1. domain_name[:]:\", domain_name[:])\n",
    "print(\"2. domain_name[7:]:\", domain_name[7:])\n",
    "print(\"3. domain_name[:7]:\", domain_name[:7])\n",
    "print(\"4. domain_name[2:9]:\", domain_name[2:9])\n",
    "print(\"5. domain_name[::2]:\", domain_name[::2])\n",
    "print(\"6. domain_name[1::3]:\", domain_name[1::3])\n",
    "\n",
    "# Negative indexing\n",
    "print(\"\\nNegative Indexing Possibilities:\")\n",
    "print(\"1. domain_name[-1]:\", domain_name[-1])\n",
    "print(\"2. domain_name[-6:-2]:\", domain_name[-6:-2])\n",
    "print(\"3. domain_name[-11:]:\", domain_name[-11:])\n",
    "print(\"4. domain_name[:-10]:\", domain_name[:-10])\n",
    "print(\"5. domain_name[::-1]:\", domain_name[::-1])"
   ]
  }
 ],
 "metadata": {
  "kernelspec": {
   "display_name": "Python 3",
   "language": "python",
   "name": "python3"
  },
  "language_info": {
   "codemirror_mode": {
    "name": "ipython",
    "version": 3
   },
   "file_extension": ".py",
   "mimetype": "text/x-python",
   "name": "python",
   "nbconvert_exporter": "python",
   "pygments_lexer": "ipython3",
   "version": "3.11.4"
  },
  "orig_nbformat": 4
 },
 "nbformat": 4,
 "nbformat_minor": 2
}
